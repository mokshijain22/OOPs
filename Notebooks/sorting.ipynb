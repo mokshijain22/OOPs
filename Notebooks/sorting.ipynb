{
 "cells": [
  {
   "cell_type": "markdown",
   "metadata": {},
   "source": [
    "# sorting\n"
   ]
  },
  {
   "cell_type": "markdown",
   "metadata": {},
   "source": [
    "\n",
    "## selection sort"
   ]
  },
  {
   "cell_type": "code",
   "execution_count": 52,
   "metadata": {},
   "outputs": [
    {
     "name": "stdout",
     "output_type": "stream",
     "text": [
      "[0, 3, 2, 78, 6, 56]\n"
     ]
    }
   ],
   "source": [
    "list1=[56,3,2,78,6,0]\n",
    "min_val=min(list1)\n",
    "min_ind=list1.index(min_val)\n",
    "temp=list1[0]\n",
    "list1[0]=list1[min_ind]\n",
    "list1[min_ind]=temp\n",
    "print(list1)"
   ]
  },
  {
   "cell_type": "code",
   "execution_count": 53,
   "metadata": {},
   "outputs": [
    {
     "name": "stdout",
     "output_type": "stream",
     "text": [
      "[56, 3, 2, 78, 6, 0]\n",
      "[0, 2, 3, 6, 56, 78]\n"
     ]
    }
   ],
   "source": [
    "list1=[56,3,2,78,6,0]\n",
    "print(list1)\n",
    "for i in range(len(list1)):\n",
    "    min_val=min(list1[i:])\n",
    "    min_ind=list1.index(min_val)\n",
    "    temp=list1[i]\n",
    "    list1[i]=list1[min_ind]\n",
    "    list1[min_ind]=temp \n",
    "print(list1)   "
   ]
  },
  {
   "cell_type": "code",
   "execution_count": 54,
   "metadata": {},
   "outputs": [
    {
     "name": "stdout",
     "output_type": "stream",
     "text": [
      "[56, 3, 2, 78, 6, 0]\n",
      "[78, 56, 6, 3, 2, 0]\n"
     ]
    }
   ],
   "source": [
    "list1=[56,3,2,78,6,0]\n",
    "print(list1)\n",
    "for i in range(len(list1)):\n",
    "    min_val=max(list1[i:])\n",
    "    min_ind=list1.index(min_val)\n",
    "    temp=list1[i]\n",
    "    list1[i]=list1[min_ind]\n",
    "    list1[min_ind]=temp \n",
    "print(list1)   "
   ]
  },
  {
   "cell_type": "code",
   "execution_count": 55,
   "metadata": {},
   "outputs": [
    {
     "name": "stdout",
     "output_type": "stream",
     "text": [
      "unsorted list [34, 5, 6, 81, 0, 5]\n",
      "[0, 5, 6, 81, 34, 5]\n",
      "[0, 5, 6, 81, 34, 5]\n",
      "[0, 5, 5, 81, 34, 6]\n",
      "[0, 5, 5, 6, 34, 81]\n",
      "[0, 5, 5, 6, 34, 81]\n"
     ]
    }
   ],
   "source": [
    "list1=[34,5,6,81,0,5]\n",
    "print(\"unsorted list\",list1)\n",
    "for i in range(len(list1)-1):\n",
    "    min_val=min(list1[i:])\n",
    "    min_ind=list1.index(min_val,i)\n",
    "    if list1[i] != list1[min_ind]:\n",
    "        temp=list1[i]\n",
    "        list1[i]=list1[min_ind]\n",
    "        list1[min_ind]=temp \n",
    "    print(list1)"
   ]
  },
  {
   "cell_type": "code",
   "execution_count": 56,
   "metadata": {},
   "outputs": [
    {
     "name": "stdout",
     "output_type": "stream",
     "text": [
      "unsorted list [34, 5, 6, 81, 0, 5]\n",
      "[81, 5, 6, 34, 0, 5]\n",
      "[81, 34, 6, 5, 0, 5]\n",
      "[81, 34, 6, 5, 0, 5]\n",
      "[81, 34, 6, 5, 0, 5]\n",
      "[81, 34, 6, 5, 5, 0]\n"
     ]
    }
   ],
   "source": [
    "list1=[34,5,6,81,0,5]\n",
    "print(\"unsorted list\",list1)\n",
    "\n",
    "for i in range(len(list1)-1):\n",
    "    m_val=list1[i]\n",
    "    for j in range(i+1,len(list1)):\n",
    "        if list1[j] > m_val:\n",
    "            m_val=list1[j]\n",
    "\n",
    "    m_ind=list1.index(m_val,i)\n",
    "    if list1[i] != list1[m_ind]:\n",
    "        temp=list1[i]\n",
    "        list1[i]=list1[m_ind]\n",
    "        list1[m_ind]=temp \n",
    "    print(list1)"
   ]
  },
  {
   "cell_type": "code",
   "execution_count": 57,
   "metadata": {},
   "outputs": [
    {
     "name": "stdout",
     "output_type": "stream",
     "text": [
      "unsorted list [34, 5, 6, 81, 0, 5]\n",
      "[0, 5, 6, 81, 34, 5]\n",
      "[0, 5, 6, 81, 34, 5]\n",
      "[0, 5, 5, 81, 34, 6]\n",
      "[0, 5, 5, 6, 34, 81]\n",
      "[0, 5, 5, 6, 34, 81]\n"
     ]
    }
   ],
   "source": [
    "list1=[34,5,6,81,0,5]\n",
    "print(\"unsorted list\",list1)\n",
    "\n",
    "for i in range(len(list1)-1):\n",
    "    m_val=list1[i]\n",
    "    for j in range(i+1,len(list1)):\n",
    "        if list1[j] < m_val:\n",
    "            m_val=list1[j]\n",
    "\n",
    "    m_ind=list1.index(m_val,i)\n",
    "    if list1[i] != list1[m_ind]:\n",
    "        temp=list1[i]\n",
    "        list1[i]=list1[m_ind]\n",
    "        list1[m_ind]=temp \n",
    "    print(list1)"
   ]
  },
  {
   "cell_type": "code",
   "execution_count": 58,
   "metadata": {},
   "outputs": [
    {
     "name": "stdout",
     "output_type": "stream",
     "text": [
      "unsorted list [34, 5, 6, 81, 0, 5]\n",
      "[81, 5, 6, 34, 0, 5]\n",
      "[81, 34, 6, 5, 0, 5]\n",
      "[81, 34, 6, 5, 0, 5]\n",
      "[81, 34, 6, 5, 0, 5]\n",
      "[81, 34, 6, 5, 5, 0]\n"
     ]
    }
   ],
   "source": [
    "list1=[34,5,6,81,0,5]\n",
    "print(\"unsorted list\",list1)\n",
    "\n",
    "for i in range(len(list1)-1):\n",
    "    m_ind=i\n",
    "    for j in range(i+1,len(list1)):\n",
    "        if list1[j] > list1[m_ind]:\n",
    "            m_ind=j\n",
    "\n",
    "    if list1[i] != list1[m_ind]:\n",
    "        temp=list1[i]\n",
    "        list1[i]=list1[m_ind]\n",
    "        list1[m_ind]=temp \n",
    "    print(list1)"
   ]
  },
  {
   "cell_type": "code",
   "execution_count": 59,
   "metadata": {},
   "outputs": [
    {
     "name": "stdout",
     "output_type": "stream",
     "text": [
      "unsorted list [34, 5, 6, 81, 0, 5]\n",
      "[0, 5, 6, 81, 34, 5]\n",
      "[0, 5, 6, 81, 34, 5]\n",
      "[0, 5, 5, 81, 34, 6]\n",
      "[0, 5, 5, 6, 34, 81]\n",
      "[0, 5, 5, 6, 34, 81]\n"
     ]
    }
   ],
   "source": [
    "list1=[34,5,6,81,0,5]\n",
    "print(\"unsorted list\",list1)\n",
    "\n",
    "for i in range(len(list1)-1):\n",
    "    m_ind=i\n",
    "    for j in range(i+1,len(list1)):\n",
    "        if list1[j] < list1[m_ind]:\n",
    "            m_ind=j\n",
    "\n",
    "    if list1[i] != list1[m_ind]:\n",
    "        temp=list1[i]\n",
    "        list1[i]=list1[m_ind]\n",
    "        list1[m_ind]=temp \n",
    "    print(list1)"
   ]
  },
  {
   "cell_type": "code",
   "execution_count": 61,
   "metadata": {},
   "outputs": [
    {
     "name": "stdout",
     "output_type": "stream",
     "text": [
      "unsorted list [3, 6, 4, 7]\n",
      "[3, 6, 4, 7]\n",
      "[3, 4, 6, 7]\n",
      "[3, 4, 6, 7]\n"
     ]
    }
   ],
   "source": [
    "num=int(input(\"how many numbers you want to enter?:\"))\n",
    "list1=[int(input(\"enter number:\"))for x in range(num)]\n",
    "print(\"unsorted list\",list1)\n",
    "\n",
    "for i in range(len(list1)-1):\n",
    "    m_ind=i\n",
    "    for j in range(i+1,len(list1)):\n",
    "        if list1[j] < list1[m_ind]:\n",
    "            m_ind=j\n",
    "\n",
    "    if list1[i] != list1[m_ind]:\n",
    "        temp=list1[i]\n",
    "        list1[i]=list1[m_ind]\n",
    "        list1[m_ind]=temp \n",
    "    print(list1)"
   ]
  },
  {
   "cell_type": "markdown",
   "metadata": {},
   "source": [
    "# bubble sort"
   ]
  },
  {
   "cell_type": "markdown",
   "metadata": {},
   "source": [
    "`bubble sort`"
   ]
  },
  {
   "cell_type": "code",
   "execution_count": null,
   "metadata": {},
   "outputs": [
    {
     "name": "stdout",
     "output_type": "stream",
     "text": [
      "unsorted list: [10, 15, 4, 23, 0]\n",
      "sorted list: [0, 4, 10, 15, 23]\n"
     ]
    }
   ],
   "source": [
    "list1=[10,15,4,23,0]\n",
    "print(\"unsorted list:\",list1)\n",
    "for j in range(len(list1)-1):\n",
    "    for i in range(len(list1)-1):\n",
    "        if list1[i]>list1[i+1]:\n",
    "            temp=list1[i]\n",
    "            list1[i]=list1[i+1]\n",
    "            list1[i+1]=temp\n",
    "print(\"sorted list:\",list1)"
   ]
  },
  {
   "cell_type": "code",
   "execution_count": null,
   "metadata": {},
   "outputs": [
    {
     "name": "stdout",
     "output_type": "stream",
     "text": [
      "unsorted list: [10, 15, 4, 23, 0]\n",
      "sorted list: [23, 15, 10, 4, 0]\n"
     ]
    }
   ],
   "source": [
    "list1=[10,15,4,23,0]\n",
    "print(\"unsorted list:\",list1)\n",
    "for j in range(len(list1)-1):\n",
    "    for i in range(len(list1)-1):\n",
    "        if list1[i]<list1[i+1]:\n",
    "            temp=list1[i]\n",
    "            list1[i]=list1[i+1]\n",
    "            list1[i+1]=temp\n",
    "print(\"sorted list:\",list1)"
   ]
  },
  {
   "cell_type": "code",
   "execution_count": null,
   "metadata": {},
   "outputs": [
    {
     "name": "stdout",
     "output_type": "stream",
     "text": [
      "unsorted list: [10, 15, 4, 23, 0]\n",
      "[10, 4, 15, 23, 0]\n",
      "[10, 4, 15, 0, 23]\n",
      "[4, 10, 15, 0, 23]\n",
      "[4, 10, 0, 15, 23]\n",
      "[4, 0, 10, 15, 23]\n",
      "[0, 4, 10, 15, 23]\n",
      "sorted list: [0, 4, 10, 15, 23]\n"
     ]
    }
   ],
   "source": [
    "list1=[10,15,4,23,0]\n",
    "print(\"unsorted list:\",list1)\n",
    "for j in range(len(list1)-1):\n",
    "    for i in range(len(list1)-1):\n",
    "        if list1[i]>list1[i+1]:\n",
    "            temp=list1[i]\n",
    "            list1[i]=list1[i+1]\n",
    "            list1[i+1]=temp\n",
    "            print(list1)\n",
    "print(\"sorted list:\",list1)"
   ]
  },
  {
   "cell_type": "code",
   "execution_count": null,
   "metadata": {},
   "outputs": [
    {
     "name": "stdout",
     "output_type": "stream",
     "text": [
      "unsorted list: [10, 15, 4, 23, 0]\n",
      "[10, 15, 4, 23, 0]\n",
      "[10, 4, 15, 23, 0]\n",
      "[10, 4, 15, 23, 0]\n",
      "[10, 4, 15, 0, 23]\n",
      "[4, 10, 15, 0, 23]\n",
      "[4, 10, 15, 0, 23]\n",
      "[4, 10, 0, 15, 23]\n",
      "[4, 10, 0, 15, 23]\n",
      "[4, 10, 0, 15, 23]\n",
      "[4, 0, 10, 15, 23]\n",
      "[4, 0, 10, 15, 23]\n",
      "[4, 0, 10, 15, 23]\n",
      "[0, 4, 10, 15, 23]\n",
      "[0, 4, 10, 15, 23]\n",
      "[0, 4, 10, 15, 23]\n",
      "[0, 4, 10, 15, 23]\n",
      "sorted list: [0, 4, 10, 15, 23]\n"
     ]
    }
   ],
   "source": [
    "list1=[10,15,4,23,0]\n",
    "print(\"unsorted list:\",list1)\n",
    "for j in range(len(list1)-1):\n",
    "    for i in range(len(list1)-1):\n",
    "        if list1[i]>list1[i+1]:\n",
    "            temp=list1[i]\n",
    "            list1[i]=list1[i+1]\n",
    "            list1[i+1]=temp\n",
    "            print(list1)\n",
    "        else:\n",
    "            print(list1)\n",
    "print(\"sorted list:\",list1)"
   ]
  },
  {
   "cell_type": "code",
   "execution_count": null,
   "metadata": {},
   "outputs": [
    {
     "name": "stdout",
     "output_type": "stream",
     "text": [
      "unsorted list: [10, 15, 4, 23, 0]\n",
      "[10, 15, 4, 23, 0]\n",
      "[10, 4, 15, 23, 0]\n",
      "[10, 4, 15, 23, 0]\n",
      "[10, 4, 15, 0, 23]\n",
      "\n",
      "[4, 10, 15, 0, 23]\n",
      "[4, 10, 15, 0, 23]\n",
      "[4, 10, 0, 15, 23]\n",
      "[4, 10, 0, 15, 23]\n",
      "\n",
      "[4, 10, 0, 15, 23]\n",
      "[4, 0, 10, 15, 23]\n",
      "[4, 0, 10, 15, 23]\n",
      "[4, 0, 10, 15, 23]\n",
      "\n",
      "[0, 4, 10, 15, 23]\n",
      "[0, 4, 10, 15, 23]\n",
      "[0, 4, 10, 15, 23]\n",
      "[0, 4, 10, 15, 23]\n",
      "\n",
      "sorted list: [0, 4, 10, 15, 23]\n"
     ]
    }
   ],
   "source": [
    "list1=[10,15,4,23,0]\n",
    "print(\"unsorted list:\",list1)\n",
    "for j in range(len(list1)-1):\n",
    "    for i in range(len(list1)-1):\n",
    "        if list1[i]>list1[i+1]:\n",
    "            temp=list1[i]\n",
    "            list1[i]=list1[i+1]\n",
    "            list1[i+1]=temp\n",
    "            print(list1)\n",
    "        else:\n",
    "            print(list1)\n",
    "    print()\n",
    "print(\"sorted list:\",list1)"
   ]
  },
  {
   "cell_type": "code",
   "execution_count": null,
   "metadata": {},
   "outputs": [
    {
     "name": "stdout",
     "output_type": "stream",
     "text": [
      "enter values:\n",
      "unsorted list: [77, 33, 88, 44]\n",
      "sorted list: [33, 44, 77, 88]\n"
     ]
    }
   ],
   "source": [
    "list1=[]\n",
    "num=int(input(\"how many numbers you want to enter:\"))\n",
    "print(\"enter values:\")\n",
    "for k in range(num):\n",
    "    list1.append(int(input()))\n",
    "\n",
    "print(\"unsorted list:\",list1)\n",
    "\n",
    "for j in range(len(list1)-1,0,-1):\n",
    "    for i in range(j):\n",
    "        if list1[i]>list1[i+1]:\n",
    "            temp=list1[i]\n",
    "            list1[i]=list1[i+1]\n",
    "            list1[i+1]=temp\n",
    "print(\"sorted list:\",list1)"
   ]
  },
  {
   "cell_type": "markdown",
   "metadata": {},
   "source": [
    "# merge sort"
   ]
  },
  {
   "cell_type": "code",
   "execution_count": null,
   "metadata": {},
   "outputs": [
    {
     "name": "stdout",
     "output_type": "stream",
     "text": [
      "sorted list: [2, 8, 6, 4]\n"
     ]
    }
   ],
   "source": [
    "def mergesort(list1):\n",
    "    if len(list1)>1:\n",
    "        mid=len(list1)//2\n",
    "        left_list=list1[:mid]\n",
    "        right_list=list1[mid:]\n",
    "        mergesort(left_list)\n",
    "        mergesort(right_list)\n",
    "        i=0\n",
    "        j=0\n",
    "        k=0\n",
    "        while i<len(left_list) and j<len(right_list):\n",
    "            if left_list[i]<right_list[j]:\n",
    "                list1[k]=left_list[i]\n",
    "                i=i+1\n",
    "                k=k+1\n",
    "            else:\n",
    "                list1[k]=right_list[i]\n",
    "                j=j+1\n",
    "                k=k+1\n",
    "        while i<len(left_list):\n",
    "            list1[k]=left_list[i]\n",
    "            i=i+1\n",
    "            k=k+1\n",
    "        while j<len(right_list):\n",
    "            j=j+1\n",
    "            k=k+1\n",
    "num=int(input(\"how many elements you want in list:\"))\n",
    "list1=[int(input())for x in range(num)]\n",
    "mergesort(list1)\n",
    "print(\"sorted list:\",list1)"
   ]
  },
  {
   "cell_type": "markdown",
   "metadata": {},
   "source": [
    "# insertion sort"
   ]
  },
  {
   "cell_type": "code",
   "execution_count": null,
   "metadata": {},
   "outputs": [
    {
     "name": "stdout",
     "output_type": "stream",
     "text": [
      "[1, 2, 3, 4, 5]\n"
     ]
    }
   ],
   "source": [
    "def InsertionSort(my_list):\n",
    "    for index in range(1,len(my_list)):\n",
    "        current_element=my_list[index]\n",
    "        pos=index\n",
    "        while current_element<my_list[pos-1] and pos>0:\n",
    "            my_list[pos]=my_list[pos-1]\n",
    "            pos=pos-1\n",
    "        my_list[pos]=current_element \n",
    "list1=[2,4,3,5,1]\n",
    "InsertionSort(list1)\n",
    "print(list1)\n",
    "\n"
   ]
  },
  {
   "cell_type": "code",
   "execution_count": null,
   "metadata": {},
   "outputs": [
    {
     "name": "stdout",
     "output_type": "stream",
     "text": [
      "[5, 4, 3, 2, 1]\n"
     ]
    }
   ],
   "source": [
    "def InsertionSort(my_list):\n",
    "    for index in range(1,len(my_list)):\n",
    "        current_element=my_list[index]\n",
    "        pos=index\n",
    "        while current_element>my_list[pos-1] and pos>0:\n",
    "            my_list[pos]=my_list[pos-1]\n",
    "            pos=pos-1\n",
    "        my_list[pos]=current_element \n",
    "list1=[2,4,3,5,1]\n",
    "InsertionSort(list1)\n",
    "print(list1)"
   ]
  },
  {
   "cell_type": "markdown",
   "metadata": {},
   "source": [
    "# shell sort"
   ]
  },
  {
   "cell_type": "code",
   "execution_count": null,
   "metadata": {},
   "outputs": [
    {
     "name": "stdout",
     "output_type": "stream",
     "text": [
      "sorted list: [7, 5, 4, 1]\n"
     ]
    }
   ],
   "source": [
    "def Shellsort(alist):\n",
    "    gap=len(alist)//2\n",
    "    while gap>0:\n",
    "        for index in range(gap,len(list1)):\n",
    "            current_element=alist[index]\n",
    "            pos=index\n",
    "            while pos>=gap and current_element>alist[pos-gap]:\n",
    "                alist[pos]=alist[pos-gap]\n",
    "                pos=pos-gap\n",
    "            alist[pos]=current_element\n",
    "        gap=gap//2\n",
    "\n",
    "num=int(input(\"list length:\"))\n",
    "list1=[int(input())for i in range(num)]\n",
    "Shellsort(list1)\n",
    "print(\"sorted list:\",list1)"
   ]
  },
  {
   "cell_type": "code",
   "execution_count": null,
   "metadata": {},
   "outputs": [
    {
     "name": "stdout",
     "output_type": "stream",
     "text": [
      "sorted list: [1, 2, 6, 8]\n"
     ]
    }
   ],
   "source": [
    "def Shellsort(alist):\n",
    "    gap=len(alist)//2\n",
    "    while gap>0:\n",
    "        for index in range(gap,len(list1)):\n",
    "            current_element=alist[index]\n",
    "            pos=index\n",
    "            while pos>=gap and current_element<alist[pos-gap]:\n",
    "                alist[pos]=alist[pos-gap]\n",
    "                pos=pos-gap\n",
    "            alist[pos]=current_element\n",
    "        gap=gap//2\n",
    "\n",
    "num=int(input(\"list length:\"))\n",
    "list1=[int(input())for i in range(num)]\n",
    "Shellsort(list1)\n",
    "print(\"sorted list:\",list1)"
   ]
  },
  {
   "cell_type": "markdown",
   "metadata": {},
   "source": [
    "# binary search"
   ]
  },
  {
   "cell_type": "code",
   "execution_count": null,
   "metadata": {},
   "outputs": [
    {
     "name": "stdout",
     "output_type": "stream",
     "text": [
      "[1, 2, 3, 4, 23]\n",
      "key is found\n"
     ]
    }
   ],
   "source": [
    "def BinarySearch(list1,key):\n",
    "    low=0\n",
    "    high=len(list1)-1\n",
    "    Found=False\n",
    "    while low<high and not Found:\n",
    "        mid=(low+high)//2\n",
    "        if key==list1[mid]:\n",
    "            Found=True\n",
    "        elif key>list1[mid]:\n",
    "            low=mid+1\n",
    "        else:\n",
    "            high=mid-1\n",
    "    if Found==True:\n",
    "        print(\"key is found\")\n",
    "    else:\n",
    "        print(\"key is not found\")\n",
    "\n",
    "list1=[23,1,4,2,3]\n",
    "list1.sort()\n",
    "print(list1)\n",
    "key=int(input(\"enter the key:\"))\n",
    "BinarySearch(list1,key)"
   ]
  },
  {
   "cell_type": "markdown",
   "metadata": {},
   "source": [
    "# quick sort\n"
   ]
  },
  {
   "cell_type": "code",
   "execution_count": 1,
   "metadata": {},
   "outputs": [
    {
     "name": "stdout",
     "output_type": "stream",
     "text": [
      "[17, 26, 31, 44, 56, 93]\n"
     ]
    }
   ],
   "source": [
    "def pivot_place(list1,first,last):\n",
    "    pivot=list1[first]\n",
    "    left=first+1\n",
    "    right=last\n",
    "    while True:\n",
    "        while left<right and list1[left]<=pivot:\n",
    "            left=left+1\n",
    "        while left<=right and list1[right]>=pivot:\n",
    "            right=right-1\n",
    "        if right<left:\n",
    "            break\n",
    "        else:\n",
    "            list1[left],list1[right]=list1[right],list1[left]\n",
    "    list1[first],list1[right]=list1[right],list1[first]\n",
    "    return right\n",
    "\n",
    "def quicksort(list1,first,last):\n",
    "    if first<last:\n",
    "        p=pivot_place(list1,first,last)\n",
    "        quicksort(list1,first,p-1)\n",
    "        quicksort(list1,p+1,last)\n",
    "\n",
    "list1=[56,26,93,17,31,44]\n",
    "n=len(list1)\n",
    "quicksort(list1,0,n-1)\n",
    "print(list1)\n",
    "\n",
    "   \n",
    "        \n"
   ]
  },
  {
   "cell_type": "code",
   "execution_count": 2,
   "metadata": {},
   "outputs": [
    {
     "name": "stdout",
     "output_type": "stream",
     "text": [
      "[93, 56, 44, 31, 26, 17]\n"
     ]
    }
   ],
   "source": [
    "def pivot_place(list1,first,last):\n",
    "    pivot=list1[first]\n",
    "    left=first+1\n",
    "    right=last\n",
    "    while True:\n",
    "        while left<=right and list1[left]>=pivot:\n",
    "            left=left+1\n",
    "        while left<=right and list1[right]<=pivot:\n",
    "            right=right-1\n",
    "        if right<left:\n",
    "            break\n",
    "        else:\n",
    "            list1[left],list1[right]=list1[right],list1[left]\n",
    "    list1[first],list1[right]=list1[right],list1[first]\n",
    "    return right\n",
    "\n",
    "def quicksort(list1,first,last):\n",
    "    if first<last:\n",
    "        p=pivot_place(list1,first,last)\n",
    "        quicksort(list1,first,p-1)\n",
    "        quicksort(list1,p+1,last)\n",
    "\n",
    "list1=[56,26,93,17,31,44]\n",
    "n=len(list1)\n",
    "quicksort(list1,0,n-1)\n",
    "print(list1)\n"
   ]
  },
  {
   "cell_type": "code",
   "execution_count": 3,
   "metadata": {},
   "outputs": [
    {
     "name": "stdout",
     "output_type": "stream",
     "text": [
      "[93, 56, 44, 31, 26, 17]\n"
     ]
    }
   ],
   "source": [
    "def pivot_place(list1,first,last):\n",
    "    pivot=list1[last]\n",
    "    left=first\n",
    "    right=last-1\n",
    "    while True:\n",
    "        while left<=right and list1[left]>=pivot:\n",
    "            left=left+1\n",
    "        while left<=right and list1[right]<=pivot:\n",
    "            right=right-1\n",
    "        if right<left:\n",
    "            break\n",
    "        else:\n",
    "            list1[left],list1[right]=list1[right],list1[left]\n",
    "    list1[last],list1[left]=list1[left],list1[last]\n",
    "    return left\n",
    "\n",
    "def quicksort(list1,first,last):\n",
    "    if first<last:\n",
    "        p=pivot_place(list1,first,last)\n",
    "        quicksort(list1,first,p-1)\n",
    "        quicksort(list1,p+1,last)\n",
    "\n",
    "list1=[56,26,93,17,31,44]\n",
    "n=len(list1)\n",
    "quicksort(list1,0,n-1)\n",
    "print(list1)\n"
   ]
  },
  {
   "cell_type": "code",
   "execution_count": 5,
   "metadata": {},
   "outputs": [
    {
     "name": "stdout",
     "output_type": "stream",
     "text": [
      "[93, 56, 44, 31, 26, 17]\n"
     ]
    }
   ],
   "source": [
    "import random\n",
    "\n",
    "def pivot_place(list1,first,last):\n",
    "    rindex=random.randint(first,last)\n",
    "    list1[rindex],list1[last]=list1[last],list1[rindex]\n",
    "    pivot=list1[last]\n",
    "    left=first\n",
    "    right=last-1\n",
    "    while True:\n",
    "        while left<=right and list1[left]>=pivot:\n",
    "            left=left+1\n",
    "        while left<=right and list1[right]<=pivot:\n",
    "            right=right-1\n",
    "        if right<left:\n",
    "            break\n",
    "        else:\n",
    "            list1[left],list1[right]=list1[right],list1[left]\n",
    "    list1[last],list1[left]=list1[left],list1[last]\n",
    "    return left\n",
    "\n",
    "def quicksort(list1,first,last):\n",
    "    if first<last:\n",
    "        p=pivot_place(list1,first,last)\n",
    "        quicksort(list1,first,p-1)\n",
    "        quicksort(list1,p+1,last)\n",
    "\n",
    "list1=[56,26,93,17,31,44]\n",
    "n=len(list1)\n",
    "quicksort(list1,0,n-1)\n",
    "print(list1)\n"
   ]
  },
  {
   "cell_type": "code",
   "execution_count": 7,
   "metadata": {},
   "outputs": [
    {
     "name": "stdout",
     "output_type": "stream",
     "text": [
      "[93, 56, 44, 31, 26, 17, 17]\n"
     ]
    }
   ],
   "source": [
    "import random\n",
    "\n",
    "def pivot_place(list1,first,last):\n",
    "    rindex=random.randint(first,last)\n",
    "    list1[rindex],list1[last]=list1[last],list1[rindex]\n",
    "    pivot=list1[last]\n",
    "    left=first\n",
    "    right=last-1\n",
    "    while True:\n",
    "        while left<=right and list1[left]>=pivot:\n",
    "            left=left+1\n",
    "        while left<=right and list1[right]<=pivot:\n",
    "            right=right-1\n",
    "        if right<left:\n",
    "            break\n",
    "        else:\n",
    "            list1[left],list1[right]=list1[right],list1[left]\n",
    "    list1[last],list1[left]=list1[left],list1[last]\n",
    "    return left\n",
    "\n",
    "def quicksort(list1,first,last):\n",
    "    if first<last:\n",
    "        p=pivot_place(list1,first,last)\n",
    "        quicksort(list1,first,p-1)\n",
    "        quicksort(list1,p+1,last)\n",
    "\n",
    "list1=[56,26,93,17,31,44,17]\n",
    "n=len(list1)\n",
    "quicksort(list1,0,n-1)\n",
    "print(list1)\n"
   ]
  },
  {
   "cell_type": "code",
   "execution_count": 8,
   "metadata": {},
   "outputs": [
    {
     "name": "stdout",
     "output_type": "stream",
     "text": [
      "[93, 56, 44, 31, 26, 17]\n"
     ]
    }
   ],
   "source": [
    "import statistics\n",
    "\n",
    "def pivot_place(list1,first,last):\n",
    "    low=list1[first]\n",
    "    high=list1[last]\n",
    "    mid=(first+last)//2\n",
    "    pivot_val=statistics.median([low,list1[mid],high])\n",
    "    if pivot_val==low:\n",
    "        pindex=first\n",
    "    elif pivot_val==high:\n",
    "        pindex=last\n",
    "    else:\n",
    "        pindex=mid\n",
    "    list1[last],list1[pindex]=list1[pindex],list1[last]\n",
    "    pivot=list1[last]\n",
    "    left=first\n",
    "    right=last-1\n",
    "    while True:\n",
    "        while left<=right and list1[left]>=pivot:\n",
    "            left=left+1\n",
    "        while left<=right and list1[right]<=pivot:\n",
    "            right=right-1\n",
    "        if right<left:\n",
    "            break\n",
    "        else:\n",
    "            list1[left],list1[right]=list1[right],list1[left]\n",
    "    list1[last],list1[left]=list1[left],list1[last]\n",
    "    return left\n",
    "\n",
    "def quicksort(list1,first,last):\n",
    "    if first<last:\n",
    "        p=pivot_place(list1,first,last)\n",
    "        quicksort(list1,first,p-1)\n",
    "        quicksort(list1,p+1,last)\n",
    "\n",
    "list1=[56,26,93,17,31,44]\n",
    "n=len(list1)\n",
    "quicksort(list1,0,n-1)\n",
    "print(list1)\n"
   ]
  },
  {
   "cell_type": "markdown",
   "metadata": {},
   "source": [
    "**arrays**\n",
    "# arrays\n"
   ]
  },
  {
   "cell_type": "markdown",
   "metadata": {},
   "source": [
    "\n"
   ]
  },
  {
   "cell_type": "code",
   "execution_count": null,
   "metadata": {},
   "outputs": [],
   "source": [
    "class Solution:\n",
    "    def sortColors(self, nums: list[int]) -> None:\n",
    "        low, mid, high = 0, 0, len(nums) - 1\n",
    "\n",
    "        while mid <= high:\n",
    "            if nums[mid] == 0:\n",
    "                nums[low], nums[mid] = nums[mid], nums[low]\n",
    "                low += 1\n",
    "                mid += 1\n",
    "            elif nums[mid] == 1:\n",
    "                mid += 1\n",
    "            else:\n",
    "                nums[mid], nums[high] = nums[high], nums[mid]\n",
    "                high -= 1"
   ]
  },
  {
   "cell_type": "code",
   "execution_count": null,
   "metadata": {},
   "outputs": [],
   "source": [
    "class Solution:\n",
    "    def searchInsert(self, nums: list[int], target: int) -> int:\n",
    "        left, right = 0, len(nums) - 1\n",
    "        while left <= right:\n",
    "            mid = (left + right) // 2\n",
    "            if nums[mid] == target:\n",
    "                return mid\n",
    "            elif nums[mid] < target:\n",
    "                left = mid + 1\n",
    "            else:\n",
    "                right = mid - 1\n",
    "        return left"
   ]
  },
  {
   "cell_type": "code",
   "execution_count": null,
   "metadata": {},
   "outputs": [],
   "source": [
    "class Solution:\n",
    "    def findDuplicate(self, nums: list[int]) -> int:\n",
    "        tortoise = nums[0]\n",
    "        hare = nums[0]\n",
    "        while True:\n",
    "            tortoise = nums[tortoise]\n",
    "            hare = nums[nums[hare]]\n",
    "            if tortoise == hare:\n",
    "                break\n",
    "\n",
    "        ptr1 = nums[0]\n",
    "        ptr2 = tortoise\n",
    "        while ptr1 != ptr2:\n",
    "            ptr1 = nums[ptr1]\n",
    "            ptr2 = nums[ptr2]\n",
    "\n",
    "        return ptr1"
   ]
  },
  {
   "cell_type": "code",
   "execution_count": null,
   "metadata": {},
   "outputs": [],
   "source": [
    "class Solution:\n",
    "    def search(self, nums: list[int], target: int) -> int:\n",
    "        left, right = 0, len(nums) - 1\n",
    "        while left <= right:\n",
    "            mid = (left + right) // 2\n",
    "            if nums[mid] == target:\n",
    "                return mid\n",
    "            elif nums[mid] < target:\n",
    "                left = mid + 1\n",
    "            else:\n",
    "                right = mid - 1\n",
    "        return -1"
   ]
  },
  {
   "cell_type": "code",
   "execution_count": null,
   "metadata": {},
   "outputs": [
    {
     "name": "stdout",
     "output_type": "stream",
     "text": [
      "[0, 2, 3, 5, 6, 8, 9]\n"
     ]
    }
   ],
   "source": [
    "\n",
    "def sort(nums):\n",
    "    for i in range(len(nums)-1,0,-1):\n",
    "        for j in range(i):\n",
    "            if nums[j]>nums[j+1]:\n",
    "                temp=nums[j]\n",
    "                nums[j]=nums[j+1]\n",
    "                nums[j+1]=temp\n",
    "nums=[6,2,8,3,9,5,0]\n",
    "sort(nums)\n",
    "print(nums)\n"
   ]
  },
  {
   "cell_type": "markdown",
   "metadata": {},
   "source": []
  },
  {
   "cell_type": "markdown",
   "metadata": {},
   "source": [
    "**string**\n",
    "# strings"
   ]
  }
 ],
 "metadata": {
  "kernelspec": {
   "display_name": ".venv",
   "language": "python",
   "name": "python3"
  },
  "language_info": {
   "codemirror_mode": {
    "name": "ipython",
    "version": 3
   },
   "file_extension": ".py",
   "mimetype": "text/x-python",
   "name": "python",
   "nbconvert_exporter": "python",
   "pygments_lexer": "ipython3",
   "version": "3.12.4"
  }
 },
 "nbformat": 4,
 "nbformat_minor": 2
}
